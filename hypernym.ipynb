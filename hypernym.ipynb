{
  "nbformat": 4,
  "nbformat_minor": 0,
  "metadata": {
    "colab": {
      "name": "hypernym.ipynb",
      "provenance": [],
      "authorship_tag": "ABX9TyPshWafgTJk4WiC1pH/hgPu",
      "include_colab_link": true
    },
    "kernelspec": {
      "name": "python3",
      "display_name": "Python 3"
    }
  },
  "cells": [
    {
      "cell_type": "markdown",
      "metadata": {
        "id": "view-in-github",
        "colab_type": "text"
      },
      "source": [
        "<a href=\"https://colab.research.google.com/github/iamgrossman/alnur.abulgazin/blob/master/hypernym.ipynb\" target=\"_parent\"><img src=\"https://colab.research.google.com/assets/colab-badge.svg\" alt=\"Open In Colab\"/></a>"
      ]
    },
    {
      "cell_type": "code",
      "metadata": {
        "id": "Avf1IMjCzZkp",
        "colab_type": "code",
        "colab": {
          "base_uri": "https://localhost:8080/",
          "height": 134
        },
        "outputId": "18b9610c-40da-4085-d07c-294edfadc104"
      },
      "source": [
        "\n",
        "!pip install  wikipedia\n"
      ],
      "execution_count": 3,
      "outputs": [
        {
          "output_type": "stream",
          "text": [
            "Requirement already satisfied: wikipedia in /usr/local/lib/python3.6/dist-packages (1.4.0)\n",
            "Requirement already satisfied: requests<3.0.0,>=2.0.0 in /usr/local/lib/python3.6/dist-packages (from wikipedia) (2.21.0)\n",
            "Requirement already satisfied: beautifulsoup4 in /usr/local/lib/python3.6/dist-packages (from wikipedia) (4.6.3)\n",
            "Requirement already satisfied: certifi>=2017.4.17 in /usr/local/lib/python3.6/dist-packages (from requests<3.0.0,>=2.0.0->wikipedia) (2019.11.28)\n",
            "Requirement already satisfied: chardet<3.1.0,>=3.0.2 in /usr/local/lib/python3.6/dist-packages (from requests<3.0.0,>=2.0.0->wikipedia) (3.0.4)\n",
            "Requirement already satisfied: idna<2.9,>=2.5 in /usr/local/lib/python3.6/dist-packages (from requests<3.0.0,>=2.0.0->wikipedia) (2.8)\n",
            "Requirement already satisfied: urllib3<1.25,>=1.21.1 in /usr/local/lib/python3.6/dist-packages (from requests<3.0.0,>=2.0.0->wikipedia) (1.24.3)\n"
          ],
          "name": "stdout"
        }
      ]
    },
    {
      "cell_type": "code",
      "metadata": {
        "id": "SDYe6qNOzlYn",
        "colab_type": "code",
        "colab": {}
      },
      "source": [
        "import pandas as pd\n",
        "import wikipedia\n"
      ],
      "execution_count": 0,
      "outputs": []
    },
    {
      "cell_type": "code",
      "metadata": {
        "id": "Z8KAYbob0JS1",
        "colab_type": "code",
        "colab": {}
      },
      "source": [
        "import os"
      ],
      "execution_count": 0,
      "outputs": []
    },
    {
      "cell_type": "code",
      "metadata": {
        "id": "ELaPNfl80N4g",
        "colab_type": "code",
        "colab": {}
      },
      "source": [
        "from tqdm import tqdm\n"
      ],
      "execution_count": 0,
      "outputs": []
    },
    {
      "cell_type": "code",
      "metadata": {
        "id": "M3FL2M4A0PQG",
        "colab_type": "code",
        "colab": {}
      },
      "source": [
        "from joblib import Parallel, delayed\n"
      ],
      "execution_count": 0,
      "outputs": []
    },
    {
      "cell_type": "code",
      "metadata": {
        "id": "rCNy_0ee0RBR",
        "colab_type": "code",
        "colab": {}
      },
      "source": [
        "import multiprocessing"
      ],
      "execution_count": 0,
      "outputs": []
    },
    {
      "cell_type": "code",
      "metadata": {
        "id": "zaTnFs6t0StP",
        "colab_type": "code",
        "colab": {}
      },
      "source": [
        "import networkx as nx\n"
      ],
      "execution_count": 0,
      "outputs": []
    },
    {
      "cell_type": "code",
      "metadata": {
        "id": "DW3Pec4R0UDK",
        "colab_type": "code",
        "colab": {}
      },
      "source": [
        "import matplotlib.pyplot as plt\n",
        "from collections import defaultdict\n",
        "from ipywidgets import interact, interactive, fixed, interact_manual,widgets\n",
        "from IPython.display import display\n"
      ],
      "execution_count": 0,
      "outputs": []
    },
    {
      "cell_type": "code",
      "metadata": {
        "id": "4K3UK6a80WoH",
        "colab_type": "code",
        "colab": {}
      },
      "source": [
        "import json\n"
      ],
      "execution_count": 0,
      "outputs": []
    },
    {
      "cell_type": "code",
      "metadata": {
        "id": "5-tHXhm_0XxW",
        "colab_type": "code",
        "colab": {}
      },
      "source": [
        "num_cores = multiprocessing.cpu_count()"
      ],
      "execution_count": 0,
      "outputs": []
    },
    {
      "cell_type": "code",
      "metadata": {
        "id": "GYqct5K-0ZYl",
        "colab_type": "code",
        "colab": {
          "base_uri": "https://localhost:8080/",
          "height": 34
        },
        "outputId": "a5ba26f2-98bb-4da0-ae38-0ed022a3f917"
      },
      "source": [
        "print(num_cores)\n",
        "wikipedia.set_lang(\"ru\")\n",
        "# DATA_PATH_LIST = ['D:','src2','taxonomy-enrichment','data','training_data']\n",
        "from google.colab import drive \n"
      ],
      "execution_count": 24,
      "outputs": [
        {
          "output_type": "stream",
          "text": [
            "2\n"
          ],
          "name": "stdout"
        }
      ]
    },
    {
      "cell_type": "code",
      "metadata": {
        "id": "dmimACWX0aqX",
        "colab_type": "code",
        "colab": {
          "base_uri": "https://localhost:8080/",
          "height": 306
        },
        "outputId": "e0596351-5c61-436f-dad4-9ab481c84355"
      },
      "source": [
        "!pip install yargy\n"
      ],
      "execution_count": 25,
      "outputs": [
        {
          "output_type": "stream",
          "text": [
            "Collecting yargy\n",
            "\u001b[?25l  Downloading https://files.pythonhosted.org/packages/37/64/d6abf637228bed6b0249b522f588d19dca9f09ab65db13bef41096f51889/yargy-0.12.0-py2.py3-none-any.whl (41kB)\n",
            "\r\u001b[K     |████████                        | 10kB 12.5MB/s eta 0:00:01\r\u001b[K     |███████████████▉                | 20kB 3.5MB/s eta 0:00:01\r\u001b[K     |███████████████████████▊        | 30kB 5.1MB/s eta 0:00:01\r\u001b[K     |███████████████████████████████▋| 40kB 6.6MB/s eta 0:00:01\r\u001b[K     |████████████████████████████████| 51kB 3.8MB/s \n",
            "\u001b[?25hCollecting backports.functools-lru-cache==1.3\n",
            "  Downloading https://files.pythonhosted.org/packages/d4/40/0b1db94fdfd71353ae67ec444ff28e0a7ecc25212d1cb94c291b6cd226f9/backports.functools_lru_cache-1.3-py2.py3-none-any.whl\n",
            "Collecting pymorphy2==0.8\n",
            "\u001b[?25l  Downloading https://files.pythonhosted.org/packages/a3/33/fff9675c68b5f6c63ec8c6e6ff57827dda28a1fa5b2c2d727dffff92dd47/pymorphy2-0.8-py2.py3-none-any.whl (46kB)\n",
            "\u001b[K     |████████████████████████████████| 51kB 6.5MB/s \n",
            "\u001b[?25hCollecting pymorphy2-dicts<3.0,>=2.4\n",
            "\u001b[?25l  Downloading https://files.pythonhosted.org/packages/02/51/2465fd4f72328ab50877b54777764d928da8cb15b74e2680fc1bd8cb3173/pymorphy2_dicts-2.4.393442.3710985-py2.py3-none-any.whl (7.1MB)\n",
            "\u001b[K     |████████████████████████████████| 7.1MB 14.2MB/s \n",
            "\u001b[?25hCollecting dawg-python>=0.7\n",
            "  Downloading https://files.pythonhosted.org/packages/6a/84/ff1ce2071d4c650ec85745766c0047ccc3b5036f1d03559fd46bb38b5eeb/DAWG_Python-0.7.2-py2.py3-none-any.whl\n",
            "Requirement already satisfied: docopt>=0.6 in /usr/local/lib/python3.6/dist-packages (from pymorphy2==0.8->yargy) (0.6.2)\n",
            "Installing collected packages: backports.functools-lru-cache, pymorphy2-dicts, dawg-python, pymorphy2, yargy\n",
            "Successfully installed backports.functools-lru-cache-1.3 dawg-python-0.7.2 pymorphy2-0.8 pymorphy2-dicts-2.4.393442.3710985 yargy-0.12.0\n"
          ],
          "name": "stdout"
        }
      ]
    },
    {
      "cell_type": "code",
      "metadata": {
        "id": "r5XSZIZ22AHB",
        "colab_type": "code",
        "colab": {}
      },
      "source": [
        "import warnings\n",
        "wikipedia.set_lang(\"ru\")\n",
        "\n",
        "from yargy import Parser, rule, and_, or_, not_\n",
        "from yargy.interpretation import fact, attribute\n",
        "from yargy.predicates import gram, is_capitalized, dictionary, eq\n",
        "import re\n",
        "import pandas as pd\n",
        "from tqdm import tqdm_notebook\n",
        "from gensim import utils\n",
        "\n",
        "import warnings\n",
        "warnings.filterwarnings('ignore')\n",
        "\n",
        "warnings.filterwarnings('ignore')\n",
        "\n",
        "START = rule(\n",
        "    or_(\n",
        "        rule(gram('ADJF')),\n",
        "        rule(gram('NOUN'))\n",
        "    ).optional(),\n",
        "    gram('NOUN')\n",
        ")\n",
        "\n",
        "START_S = or_(\n",
        "    eq('такой'),\n",
        "    eq('такие'),\n",
        ")\n",
        "\n",
        "KAK = eq('как')\n",
        "INCLUDING = or_(\n",
        "    or_(\n",
        "        eq('в'),\n",
        "        eq('том'),\n",
        "        eq('числе'),\n",
        "    ),\n",
        "    eq('включающий'),\n",
        "    or_(\n",
        "        eq('включающий'),\n",
        "        eq('в'),\n",
        "        eq('себя'),\n",
        "    ),\n",
        "    or_(\n",
        "        eq('включающие'),\n",
        "        eq('в'),\n",
        "        eq('себя'),\n",
        "    ),\n",
        "    eq('включающие'),\n",
        "    eq('особенно'),\n",
        "\n",
        ")\n",
        "\n",
        "MID_S = or_(\n",
        "    rule(\n",
        "        or_(\n",
        "            eq('такой'),\n",
        "            eq('такие'),\n",
        "        ),\n",
        "        eq('как')\n",
        "    )\n",
        ")\n",
        "ATAKJE = rule(\n",
        "    eq(','),\n",
        "    eq('а'),\n",
        "    eq('также')\n",
        ")\n",
        "\n",
        "MID = or_(\n",
        "    rule(\n",
        "        eq('это')\n",
        "    ),\n",
        "    rule(\n",
        "        eq('—')\n",
        "    ),\n",
        "    rule(\n",
        "        eq('—'),\n",
        "        eq('это')\n",
        "    ),\n",
        "    rule(\n",
        "        eq('—'),\n",
        "        not_(eq('км'))\n",
        "    ),\n",
        "    rule(\n",
        "        or_(\n",
        "            eq('и'),\n",
        "            eq('или'),\n",
        "        ),\n",
        "        eq('другие')\n",
        "    )\n",
        ")\n",
        "\n",
        "END = or_(\n",
        "    rule(\n",
        "        gram('NOUN'),\n",
        "        gram('NOUN')\n",
        "    ),\n",
        "    rule(\n",
        "        gram('ADJF').repeatable(),\n",
        "        gram('NOUN')\n",
        "    ),\n",
        "    rule(\n",
        "        gram('ADJF'),\n",
        "        gram('ADJF').repeatable(),\n",
        "        gram('NOUN')\n",
        "    ),\n",
        "    rule(\n",
        "        gram('NOUN').repeatable(),\n",
        "        gram('ADJF'),\n",
        "        gram('NOUN').repeatable()\n",
        "    ),\n",
        "    rule(\n",
        "        gram('NOUN').repeatable()\n",
        "    )\n",
        ")\n",
        "\n",
        "Item = fact(\n",
        "    'Item',\n",
        "    [attribute('titles').repeatable()]\n",
        ")\n",
        "\n",
        "\n",
        "IGNORE = rule(\n",
        "    '(',\n",
        "    not_(eq(')')).repeatable(),\n",
        "    ')'\n",
        ")\n",
        "\n",
        "ITEM = rule(\n",
        "    IGNORE.interpretation(\n",
        "        Item.titles\n",
        "    ),\n",
        "    eq(',').optional() \n",
        ").repeatable().interpretation(\n",
        "    Item\n",
        ")\n"
      ],
      "execution_count": 0,
      "outputs": []
    },
    {
      "cell_type": "code",
      "metadata": {
        "id": "7K4Rbw_o2GKO",
        "colab_type": "code",
        "colab": {}
      },
      "source": [
        "def get_hyperonyms(main_word):\n",
        "    HYPONYM = eq(utils.deaccent(main_word))\n",
        "    RULE = or_(\n",
        "        rule(HYPONYM, ATAKJE, START, MID, END),\n",
        "        rule(HYPONYM, MID, END),\n",
        "        rule(START_S, END, KAK, HYPONYM),\n",
        "        rule(END, INCLUDING, HYPONYM)\n",
        "    )\n",
        "    parser = Parser(RULE) \n",
        "    text = utils.deaccent(wikipedia.summary(main_word))\n",
        "    print(text)\n",
        "    text = re.sub(r'\\(.+?\\)', '', text)\n",
        "    for idx, match in enumerate(parser.findall(text.lower())):\n",
        "        k = [_.value for _ in match.tokens]\n",
        "        print(k)\n"
      ],
      "execution_count": 0,
      "outputs": []
    },
    {
      "cell_type": "code",
      "metadata": {
        "id": "dpcutAOR2mvA",
        "colab_type": "code",
        "colab": {
          "base_uri": "https://localhost:8080/",
          "height": 121
        },
        "outputId": "fe8f99e5-89d6-4c2d-b5a4-03a8bf302374"
      },
      "source": [
        "from google.colab import drive\n",
        "drive.mount('/content/gdrive')\n"
      ],
      "execution_count": 29,
      "outputs": [
        {
          "output_type": "stream",
          "text": [
            "Go to this URL in a browser: https://accounts.google.com/o/oauth2/auth?client_id=947318989803-6bn6qk8qdgf4n4g3pfee6491hc0brc4i.apps.googleusercontent.com&redirect_uri=urn%3aietf%3awg%3aoauth%3a2.0%3aoob&response_type=code&scope=email%20https%3a%2f%2fwww.googleapis.com%2fauth%2fdocs.test%20https%3a%2f%2fwww.googleapis.com%2fauth%2fdrive%20https%3a%2f%2fwww.googleapis.com%2fauth%2fdrive.photos.readonly%20https%3a%2f%2fwww.googleapis.com%2fauth%2fpeopleapi.readonly\n",
            "\n",
            "Enter your authorization code:\n",
            "··········\n",
            "Mounted at /content/gdrive\n"
          ],
          "name": "stdout"
        }
      ]
    },
    {
      "cell_type": "code",
      "metadata": {
        "id": "8-HcW9nX2ox_",
        "colab_type": "code",
        "colab": {
          "base_uri": "https://localhost:8080/",
          "height": 333
        },
        "outputId": "f62c604b-b394-45bd-df99-55bf7d12563b"
      },
      "source": [
        "import pandas as pd\n",
        "\n",
        "CHARGE_NUMBER = 65\n",
        "\n",
        "df = pd.read_csv(\"/content/gdrive/My Drive/lab2_words.csv\")\n",
        "charge = df.loc[df['IN CHARGE NUMBER'] == CHARGE_NUMBER]\n",
        "charge.head(5)\n"
      ],
      "execution_count": 36,
      "outputs": [
        {
          "output_type": "execute_result",
          "data": {
            "text/html": [
              "<div>\n",
              "<style scoped>\n",
              "    .dataframe tbody tr th:only-of-type {\n",
              "        vertical-align: middle;\n",
              "    }\n",
              "\n",
              "    .dataframe tbody tr th {\n",
              "        vertical-align: top;\n",
              "    }\n",
              "\n",
              "    .dataframe thead th {\n",
              "        text-align: right;\n",
              "    }\n",
              "</style>\n",
              "<table border=\"1\" class=\"dataframe\">\n",
              "  <thead>\n",
              "    <tr style=\"text-align: right;\">\n",
              "      <th></th>\n",
              "      <th>Заполнено</th>\n",
              "      <th>Unnamed: 1</th>\n",
              "      <th>IN CHARGE NUMBER</th>\n",
              "      <th>IN CHARGE NAME</th>\n",
              "      <th>HYPONYM</th>\n",
              "      <th>HYPERNYM</th>\n",
              "      <th>HYPERNYM.1</th>\n",
              "      <th>HYPERNYM.2</th>\n",
              "      <th>HYPERNYM.3</th>\n",
              "      <th>HYPERNYM.4</th>\n",
              "      <th>HYPERNYM.5</th>\n",
              "      <th>HYPERNYM.6</th>\n",
              "      <th>HYPERNYM.7</th>\n",
              "      <th>HYPERNYM.8</th>\n",
              "      <th>HYPERNYM.9</th>\n",
              "      <th>Unnamed: 15</th>\n",
              "      <th>Unnamed: 16</th>\n",
              "      <th>Unnamed: 17</th>\n",
              "      <th>Unnamed: 18</th>\n",
              "      <th>#ERROR!</th>\n",
              "    </tr>\n",
              "  </thead>\n",
              "  <tbody>\n",
              "    <tr>\n",
              "      <th>1368</th>\n",
              "      <td>NaN</td>\n",
              "      <td>1369</td>\n",
              "      <td>65</td>\n",
              "      <td>Alnur Abulgazin</td>\n",
              "      <td>ФИТОФТОРОЗ</td>\n",
              "      <td>NaN</td>\n",
              "      <td>NaN</td>\n",
              "      <td>NaN</td>\n",
              "      <td>NaN</td>\n",
              "      <td>NaN</td>\n",
              "      <td>NaN</td>\n",
              "      <td>NaN</td>\n",
              "      <td>NaN</td>\n",
              "      <td>NaN</td>\n",
              "      <td>NaN</td>\n",
              "      <td>NaN</td>\n",
              "      <td>NaN</td>\n",
              "      <td>NaN</td>\n",
              "      <td>NaN</td>\n",
              "      <td>NaN</td>\n",
              "    </tr>\n",
              "    <tr>\n",
              "      <th>1369</th>\n",
              "      <td>NaN</td>\n",
              "      <td>1370</td>\n",
              "      <td>65</td>\n",
              "      <td>Alnur Abulgazin</td>\n",
              "      <td>ФЛАНЕЦ</td>\n",
              "      <td>NaN</td>\n",
              "      <td>NaN</td>\n",
              "      <td>NaN</td>\n",
              "      <td>NaN</td>\n",
              "      <td>NaN</td>\n",
              "      <td>NaN</td>\n",
              "      <td>NaN</td>\n",
              "      <td>NaN</td>\n",
              "      <td>NaN</td>\n",
              "      <td>NaN</td>\n",
              "      <td>NaN</td>\n",
              "      <td>NaN</td>\n",
              "      <td>NaN</td>\n",
              "      <td>NaN</td>\n",
              "      <td>NaN</td>\n",
              "    </tr>\n",
              "    <tr>\n",
              "      <th>1370</th>\n",
              "      <td>NaN</td>\n",
              "      <td>1371</td>\n",
              "      <td>65</td>\n",
              "      <td>Alnur Abulgazin</td>\n",
              "      <td>ФЛЕГМОНА</td>\n",
              "      <td>NaN</td>\n",
              "      <td>NaN</td>\n",
              "      <td>NaN</td>\n",
              "      <td>NaN</td>\n",
              "      <td>NaN</td>\n",
              "      <td>NaN</td>\n",
              "      <td>NaN</td>\n",
              "      <td>NaN</td>\n",
              "      <td>NaN</td>\n",
              "      <td>NaN</td>\n",
              "      <td>NaN</td>\n",
              "      <td>NaN</td>\n",
              "      <td>NaN</td>\n",
              "      <td>NaN</td>\n",
              "      <td>NaN</td>\n",
              "    </tr>\n",
              "    <tr>\n",
              "      <th>1371</th>\n",
              "      <td>NaN</td>\n",
              "      <td>1372</td>\n",
              "      <td>65</td>\n",
              "      <td>Alnur Abulgazin</td>\n",
              "      <td>ФЛЕЙТИСТ</td>\n",
              "      <td>NaN</td>\n",
              "      <td>NaN</td>\n",
              "      <td>NaN</td>\n",
              "      <td>NaN</td>\n",
              "      <td>NaN</td>\n",
              "      <td>NaN</td>\n",
              "      <td>NaN</td>\n",
              "      <td>NaN</td>\n",
              "      <td>NaN</td>\n",
              "      <td>NaN</td>\n",
              "      <td>NaN</td>\n",
              "      <td>NaN</td>\n",
              "      <td>NaN</td>\n",
              "      <td>NaN</td>\n",
              "      <td>NaN</td>\n",
              "    </tr>\n",
              "    <tr>\n",
              "      <th>1372</th>\n",
              "      <td>NaN</td>\n",
              "      <td>1373</td>\n",
              "      <td>65</td>\n",
              "      <td>Alnur Abulgazin</td>\n",
              "      <td>ФЛОРБОЛ</td>\n",
              "      <td>NaN</td>\n",
              "      <td>NaN</td>\n",
              "      <td>NaN</td>\n",
              "      <td>NaN</td>\n",
              "      <td>NaN</td>\n",
              "      <td>NaN</td>\n",
              "      <td>NaN</td>\n",
              "      <td>NaN</td>\n",
              "      <td>NaN</td>\n",
              "      <td>NaN</td>\n",
              "      <td>NaN</td>\n",
              "      <td>NaN</td>\n",
              "      <td>NaN</td>\n",
              "      <td>NaN</td>\n",
              "      <td>NaN</td>\n",
              "    </tr>\n",
              "  </tbody>\n",
              "</table>\n",
              "</div>"
            ],
            "text/plain": [
              "      Заполнено  Unnamed: 1  ...  Unnamed: 18 #ERROR!\n",
              "1368        NaN        1369  ...          NaN     NaN\n",
              "1369        NaN        1370  ...          NaN     NaN\n",
              "1370        NaN        1371  ...          NaN     NaN\n",
              "1371        NaN        1372  ...          NaN     NaN\n",
              "1372        NaN        1373  ...          NaN     NaN\n",
              "\n",
              "[5 rows x 20 columns]"
            ]
          },
          "metadata": {
            "tags": []
          },
          "execution_count": 36
        }
      ]
    },
    {
      "cell_type": "code",
      "metadata": {
        "id": "IVZBEtxb3d7m",
        "colab_type": "code",
        "colab": {
          "base_uri": "https://localhost:8080/",
          "height": 1000
        },
        "outputId": "a97339bb-a501-40ae-bdf2-ebad0c25b16f"
      },
      "source": [
        "for index, row in charge.iterrows():\n",
        "    try:\n",
        "      print(row['HYPONYM'])\n",
        "      get_hyperonyms(row['HYPONYM'])\n",
        "      print(\"-\"*50)\n",
        "    except: \n",
        "        pass\n"
      ],
      "execution_count": 37,
      "outputs": [
        {
          "output_type": "stream",
          "text": [
            "ФИТОФТОРОЗ\n",
            "Фитофтороз, или фитофтора (от др.-греч. φυτον — «растение» + др.-греч. φθαρτικος — «разрушающии, уничтожающии, гибельныи») — заболевание растении.\n",
            "--------------------------------------------------\n",
            "ФЛАНЕЦ\n",
            "Фланец (от нем. Flansch) — плоская деталь квадратнои, круглои, или инои формы с отверстиями для болтов и шпилек, служащая для прочного (узлы длинных строительных конструкции, например, ферм, балок и др.) и герметичного соединения труб, трубопроводнои арматуры, присоединения труб друг к другу, к машинам, аппаратам и емкостям, для соединения валов и других вращающихся деталеи (фланцевое соединение).\n",
            "--------------------------------------------------\n",
            "ФЛЕГМОНА\n",
            "Флегмона (от др.-греч. φλεγμονη — жар, воспаление) — острое разлитое гноиное воспаление клетчаточных пространств; в отличие от абсцесса, не имеет четких границ.\n",
            "--------------------------------------------------\n",
            "ФЛЕЙТИСТ\n",
            "Флеита (лат. flauta, от flatus — дуновение) — лабиальныи духовои музыкальныи инструмент, в котором первичным источником колебании является воздушная струя, рассекающаяся о краи стенки инструмента, называемои лабиум (лат. labium — губа). Источник колебании приводит в движение воздушныи столб в канале флеиты и образуется звук определеннои высоты. Один из древнеиших музыкальных инструментов. Относится к группе деревянных духовых.\n",
            "По способу держания флеиты делятся на продольные, поперечные и полупоперечные (диагональные). Продольные флеиты бывают со свистковым устроиством (мундштучные) и без него.\n",
            "Флеита с закрытым противоположным от исполнителя концом ствола (закрытая флеита) звучит на октаву выше такои же по размеру флеиты с открытым концом (открытая флеита).\n",
            "--------------------------------------------------\n",
            "ФЛОРБОЛ\n",
            "Флорбол (англ. floorball, от англ. floor — пол и англ. ball — мяч) или хоккеи в зале — командныи вид спорта из семеиства разновидностеи хоккея с мячом. Играется в закрытых помещениях на твердом ровном полу пластиковым мячом, удары по которому наносятся специальнои клюшкои. Цель игры: забить мяч в ворота соперника.\n",
            "--------------------------------------------------\n",
            "ФЛОТОВОДЕЦ\n",
            "Полководец — общее название воинских чинов, командующих крупными боевыми подразделениями.\n",
            "--------------------------------------------------\n",
            "ФЛУОРЕСЦЕНЦИЯ\n",
            "Флуоресценция, или флюоресценция — физическии процесс, разновидность люминесценции. Флуоресценциеи обычно называют излучательныи переход возбужденного состояния с самого нижнего синглетного колебательного уровня S1 в основное состояние S0. В общем случае флуоресценциеи называют разрешенныи по спину излучательныи переход между двумя состояниями одинаковои мультиплетности: между синглетными уровнями \n",
            "  \n",
            "    \n",
            "      \n",
            "        \n",
            "          S\n",
            "          \n",
            "            1\n",
            "          \n",
            "        \n",
            "        →\n",
            "        \n",
            "          S\n",
            "          \n",
            "            0\n",
            "          \n",
            "        \n",
            "      \n",
            "    \n",
            "    {\\displaystyle S_{1}\\rightarrow S_{0}}\n",
            "   или триплетными \n",
            "  \n",
            "    \n",
            "      \n",
            "        \n",
            "          T\n",
            "          \n",
            "            1\n",
            "          \n",
            "        \n",
            "        →\n",
            "        \n",
            "          T\n",
            "          \n",
            "            0\n",
            "          \n",
            "        \n",
            "      \n",
            "    \n",
            "    {\\displaystyle T_{1}\\rightarrow T_{0}}\n",
            "  . Типичное время жизни такого возбужденного состояния составляет 10−11−10−6 с.\n",
            "Флуоресценцию следует отличать от фосфоресценции — запрещенного по спину излучательного перехода между двумя состояниями разнои мультиплетности. Например, излучательныи переход возбужденного триплетного состояния T1 в основное состояние S0. Синглет-триплетные переходы имеют квантовомеханическии запрет, поэтому время жизни возбужденного состояния при фосфоресценции составляет порядка 10−3−10−2 с.\n",
            "--------------------------------------------------\n",
            "ФЛЮС\n",
            "Флюс (лат. Fluxus — поток, течение) — вещества (чаще смесь) органического и неорганического происхождения, предназначенные для удаления оксидов с паяемых поверхностеи, снижения поверхностного натяжения, улучшения растекания жидкого припоя и/или защиты от деиствия окружающеи среды.\n",
            "--------------------------------------------------\n",
            "ФОНЕНДОСКОП\n",
            "Стетоскоп (греч. στηθος «грудь» + σκοπεω «смотрю») — медицинскии диагностическии прибор для аускультации (выслушивания) звуков, исходящих от сердца, сосудов, легких, бронхов, кишечника и других органов. Также, стетоскоп используется для выслушивания тонов Короткова при измерении артериального давления и для проверки правильного местонахождения желудочного зонда при проведении энтерального питания или промывания желудка.\n",
            "Рабочеи деталью стетоскопа является головка, которая прикладывается к поверхности тела пациента и улавливает звуки внутренних органов. По гибкому звукопроводу звук направляется в слуховои канал исследователя.\n",
            "Специальные немедицинские (технические) стетоскопы используются для диагностики работы механизмов: трансмиссии, кривошипно-шатунного механизма, подшипников, втулок, клапанов и других деталеи и узлов. Чувствительным элементом такого стетоскопа является тонкии металлическии стержень, прикладываемыи к диагностируемому механизму.\n",
            "--------------------------------------------------\n",
            "ФОРЕКС\n",
            "ФОРМАЛИН\n",
            "Формалин — водныи раствор формальдегида (метаналь), стабилизированныи метанолом.\n",
            "--------------------------------------------------\n",
            "ФОРМАЛИСТ\n",
            "ФОРМОВКА\n",
            "Формовка — технологическии процесс изготовления форм, придания формы воплощается в огромном спектре разнообразных производств. В литеином производстве применяется как при самом литье, так и при изготовлении форм для литья. При изготовлении железобетонных изделии, используют процессы экструзии, виброформования, послоиного виброформования. В пищевои промышленности — это хлебопечение, кондитерское производство. Широко используются технологии формовки листовых материалов.\n",
            "--------------------------------------------------\n",
            "ФОРМОВЩИК\n",
            "Виктор Иванович Ляшко (род.  26 октября 1935, село Щурово Краснолиманского раиона, теперь Лиманскои городскои территориальнои громады Донецкои области) — украинскии деятель, председатель Артемовского горисполкома Донецкои области, начальник Донецкого областного управления коммунального хозяиства, 1-и заместитель Председателя Госкомитета Украины по жилищно-коммунального хозяиства. Народныи депутат Украины 1-го созыва.\n",
            "--------------------------------------------------\n",
            "ФОРШТЕВЕНЬ\n",
            "В настоящии глоссарии не включены термины, применяемые для обозначения типов кораблеи и судов, которые (за исключением многозначных терминов) вынесены в отдельныи глоссарии Морские термины (типы кораблеи и судов)\n",
            "--------------------------------------------------\n",
            "ФОСГЕН\n",
            "Фосген (дихлорангидрид угольнои кислоты) — химическое вещество с формулои COCl2, при нормальных условиях — бесцветныи чрезвычаино токсичныи и удушливыи газ с запахом прелого сена. Синонимы: оксид-дихлорид углерода, карбонилхлорид, хлорокись углерода.\n",
            "Обладает удушающим деиствием. Использовался в Первую мировую воину как боевое отравляющее вещество.\n",
            "--------------------------------------------------\n",
            "ФОТОШОП\n",
            "Adobe Photoshop ([əˈdəʊbɪ ˈfəʊtəʃɒp], Эдоуби Фотошоп, рус. интернет-сленг Адоб Фотошоп) — многофункциональныи графическии редактор, разработанныи и распространяемыи фирмои Adobe Systems. В основном работает с растровыми изображениями, однако имеет некоторые векторные инструменты. Продукт является лидером рынка в области коммерческих средств редактирования растровых изображении и наиболее известнои программои фирмы Adobe.\n",
            "В настоящее время Photoshop доступен на платформах macOS, Windows, в мобильных системах iOS, Windows Phone и Android. \n",
            "Также существует версия Photoshop Express для Windows Phone 8 и 8.1. \n",
            "В 2014 году в США проходило бета-тестирование потоковои версии продукта для Chrome OS. \n",
            "Ранние версии редактора были портированы под SGI IRIX, но официальная поддержка прекращена начиная с третьеи версии продукта. \n",
            "Для версии 8.0 и CS6 возможен запуск под Linux с помощью альтернативы Windows API — Wine.\n",
            "--------------------------------------------------\n",
            "ФРАЗЕОЛОГИЗМ\n",
            "Фразеологизм (лексическая единица, идиома, устоичивое выражение) — своиственное определенному языку устоичивое словосочетание, смысл которого не определяется значением отдельно взятых слов.\n",
            "\n",
            "\n",
            "--------------------------------------------------\n",
            "ФРАНЦИСКАНЕЦ\n",
            "Францисканцы (лат. Ordo Fratrum Minorum; «минориты», «меньшие братья») — католическии нищенствующии монашескии орден, основан святым Франциском Ассизским близ Сполето в 1208 году с целью проповеди в народе апостольскои бедности, аскетизма, любви к ближнему.\n",
            "--------------------------------------------------\n",
            "ФРАХТОВЩИК\n",
            "Фрахтовщик — сторона в договоре фрахтования, которая принимает на себя обязанность осуществить за вознаграждение перевозку груза морем в порт назначения с условием предоставления всего судна, части его или определенных судовых помещении.\n",
            "Термины, используемые в транспортнои логистике:\n",
            "\n",
            "Фрахтователь — физическое или юридическое лицо, которое по договору фрахтования обязуется оплатить стоимость пользования всеи либо частью вместимости одного или нескольких транспортных средств, предоставляемых на один или несколько реисов для перевозок пассажиров и багажа, грузов;\n",
            "Фрахтовщик — юридическое лицо, индивидуальныи предприниматель, принявшие на себя по договору фрахтования обязанность предоставить фрахтователю всю либо часть вместимости одного или нескольких транспортных средств на один или несколько реисов для перевозок пассажиров и багажа, грузов.\n",
            "--------------------------------------------------\n",
            "ФРИКАДЕЛЬКА\n",
            "Фрикадельки (итал. frittatella — жареное) — блюдо, представляющее собои шарики из мясного или рыбного фарша. В толковом словаре русского языка Ожегова дается такое определение: «Фрикаделька — шарик из фарша (мясного, рыбного), сваренныи в бульоне».\n",
            "\n",
            "\n",
            "--------------------------------------------------\n",
            "ФРИСБИ\n",
            "Летающии диск — общее название спортивного снаряда, представляющего собои пластиковыи диск с загнутыми краями диаметром 20-25 сантиметров. Диск сделан таким образом, чтобы при его полете создавалась подъемная сила, что позволяет бросать диски на значительные расстояния и с большои точностью.\n",
            "--------------------------------------------------\n",
            "ФРИСТАЙЛИСТ\n",
            "Гас Кенуорти (англ. Gus Kenworthy; род. 1 октября 1991) — американскии фристаилист, серебряныи призер Олимпииских игр 2014 года.\n",
            "--------------------------------------------------\n",
            "ФРИТЮРНИЦА\n",
            "Фритюрница — аппарат для жарки во фритюре (глубоком слое растительного или животного жира). Фри (фр. frit — «жареныи») означает «изжаренныи в большом количестве жира до образования румянои корочки».\n",
            "--------------------------------------------------\n"
          ],
          "name": "stdout"
        }
      ]
    },
    {
      "cell_type": "code",
      "metadata": {
        "id": "Wpc-7hrQ4NdC",
        "colab_type": "code",
        "colab": {}
      },
      "source": [
        ""
      ],
      "execution_count": 0,
      "outputs": []
    }
  ]
}